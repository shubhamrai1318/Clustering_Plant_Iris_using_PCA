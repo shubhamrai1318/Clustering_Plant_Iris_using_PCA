{
  "nbformat": 4,
  "nbformat_minor": 0,
  "metadata": {
    "colab": {
      "provenance": [],
      "authorship_tag": "ABX9TyMHwfCLlb/0hMVQqg3+KFhU",
      "include_colab_link": true
    },
    "kernelspec": {
      "name": "python3",
      "display_name": "Python 3"
    },
    "language_info": {
      "name": "python"
    }
  },
  "cells": [
    {
      "cell_type": "markdown",
      "metadata": {
        "id": "view-in-github",
        "colab_type": "text"
      },
      "source": [
        "<a href=\"https://colab.research.google.com/github/shubhamrai1318/Clustering_Plant_Iris_using_PCA/blob/main/Clustering_Plant_Iris_using_PCA.ipynb\" target=\"_parent\"><img src=\"https://colab.research.google.com/assets/colab-badge.svg\" alt=\"Open In Colab\"/></a>"
      ]
    },
    {
      "cell_type": "markdown",
      "source": [
        "# **Clustering Plant Iris (using PCA)**"
      ],
      "metadata": {
        "id": "2erdjnlUS48g"
      }
    },
    {
      "cell_type": "markdown",
      "source": [
        "## **Importing the basic libraries**"
      ],
      "metadata": {
        "id": "UaLF24f_Tled"
      }
    },
    {
      "cell_type": "code",
      "source": [
        "from sklearn import datasets\n",
        "import matplotlib.pyplot as plt"
      ],
      "metadata": {
        "id": "K24pxonYTpam"
      },
      "execution_count": 1,
      "outputs": []
    },
    {
      "cell_type": "markdown",
      "source": [],
      "metadata": {
        "id": "YQTGUbz5UGaI"
      }
    },
    {
      "cell_type": "markdown",
      "source": [
        "## **Importing the Dataset**"
      ],
      "metadata": {
        "id": "w955L5sUUG3v"
      }
    },
    {
      "cell_type": "code",
      "source": [
        "df = datasets.load_iris()"
      ],
      "metadata": {
        "id": "m45VoDJpUK66"
      },
      "execution_count": 2,
      "outputs": []
    }
  ]
}