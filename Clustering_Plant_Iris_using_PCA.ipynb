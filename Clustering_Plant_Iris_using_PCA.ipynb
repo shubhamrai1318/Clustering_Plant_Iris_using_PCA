{
  "nbformat": 4,
  "nbformat_minor": 0,
  "metadata": {
    "colab": {
      "provenance": [],
      "authorship_tag": "ABX9TyOO/x/u9JL5g2SpqRfVOCba",
      "include_colab_link": true
    },
    "kernelspec": {
      "name": "python3",
      "display_name": "Python 3"
    },
    "language_info": {
      "name": "python"
    }
  },
  "cells": [
    {
      "cell_type": "markdown",
      "metadata": {
        "id": "view-in-github",
        "colab_type": "text"
      },
      "source": [
        "<a href=\"https://colab.research.google.com/github/shubhamrai1318/Clustering_Plant_Iris_using_PCA/blob/main/Clustering_Plant_Iris_using_PCA.ipynb\" target=\"_parent\"><img src=\"https://colab.research.google.com/assets/colab-badge.svg\" alt=\"Open In Colab\"/></a>"
      ]
    },
    {
      "cell_type": "markdown",
      "source": [
        "### **Clustering Plant Iris (using PCA)**"
      ],
      "metadata": {
        "id": "2erdjnlUS48g"
      }
    }
  ]
}